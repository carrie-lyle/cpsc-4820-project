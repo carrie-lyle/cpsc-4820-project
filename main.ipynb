{
 "cells": [
  {
   "cell_type": "markdown",
   "metadata": {},
   "source": [
    "# CPSC 4820 Project - Fire Intensity Prediction using Machine Learning"
   ]
  },
  {
   "cell_type": "code",
   "execution_count": 5,
   "metadata": {},
   "outputs": [],
   "source": [
    "import pandas as pd \n",
    "import numpy as np\n",
    "import matplotlib.pyplot as plt \n",
    "import seaborn as sns\n",
    "import warnings\n",
    "warnings.filterwarnings(\"ignore\")"
   ]
  },
  {
   "cell_type": "markdown",
   "metadata": {},
   "source": [
    "### Descriptive Analysis"
   ]
  },
  {
   "cell_type": "code",
   "execution_count": 14,
   "metadata": {},
   "outputs": [],
   "source": [
    "hotspots = pd.read_csv(\"data/combined_hotspots.csv\")"
   ]
  },
  {
   "cell_type": "code",
   "execution_count": 15,
   "metadata": {},
   "outputs": [
    {
     "data": {
      "text/html": [
       "<div>\n",
       "<style scoped>\n",
       "    .dataframe tbody tr th:only-of-type {\n",
       "        vertical-align: middle;\n",
       "    }\n",
       "\n",
       "    .dataframe tbody tr th {\n",
       "        vertical-align: top;\n",
       "    }\n",
       "\n",
       "    .dataframe thead th {\n",
       "        text-align: right;\n",
       "    }\n",
       "</style>\n",
       "<table border=\"1\" class=\"dataframe\">\n",
       "  <thead>\n",
       "    <tr style=\"text-align: right;\">\n",
       "      <th></th>\n",
       "      <th>lat</th>\n",
       "      <th>lon</th>\n",
       "      <th>rep_date</th>\n",
       "      <th>source</th>\n",
       "      <th>sensor</th>\n",
       "      <th>satellite</th>\n",
       "      <th>agency</th>\n",
       "      <th>temp</th>\n",
       "      <th>rh</th>\n",
       "      <th>ws</th>\n",
       "      <th>...</th>\n",
       "      <th>greenup</th>\n",
       "      <th>elev</th>\n",
       "      <th>sfl</th>\n",
       "      <th>cfl</th>\n",
       "      <th>tfc0</th>\n",
       "      <th>ecozone</th>\n",
       "      <th>sfc0</th>\n",
       "      <th>cbh</th>\n",
       "      <th>uid</th>\n",
       "      <th>fid</th>\n",
       "    </tr>\n",
       "  </thead>\n",
       "  <tbody>\n",
       "    <tr>\n",
       "      <th>0</th>\n",
       "      <td>53.0170</td>\n",
       "      <td>-124.689</td>\n",
       "      <td>2019/03/27 21:15:00.000</td>\n",
       "      <td>NASA</td>\n",
       "      <td>MODIS</td>\n",
       "      <td>Aqua</td>\n",
       "      <td>BC</td>\n",
       "      <td>3.761</td>\n",
       "      <td>59</td>\n",
       "      <td>11.673</td>\n",
       "      <td>...</td>\n",
       "      <td>0</td>\n",
       "      <td>1178</td>\n",
       "      <td>NaN</td>\n",
       "      <td>0.8</td>\n",
       "      <td>NaN</td>\n",
       "      <td>NaN</td>\n",
       "      <td>NaN</td>\n",
       "      <td>NaN</td>\n",
       "      <td>NaN</td>\n",
       "      <td>NaN</td>\n",
       "    </tr>\n",
       "    <tr>\n",
       "      <th>1</th>\n",
       "      <td>50.5910</td>\n",
       "      <td>-119.904</td>\n",
       "      <td>2019/11/17 20:29:00.000</td>\n",
       "      <td>USFS</td>\n",
       "      <td>IBAND</td>\n",
       "      <td>JPSS1</td>\n",
       "      <td>BC</td>\n",
       "      <td>7.732</td>\n",
       "      <td>84</td>\n",
       "      <td>10.635</td>\n",
       "      <td>...</td>\n",
       "      <td>0</td>\n",
       "      <td>761</td>\n",
       "      <td>NaN</td>\n",
       "      <td>2.1</td>\n",
       "      <td>0.140000</td>\n",
       "      <td>14.0</td>\n",
       "      <td>0.140000</td>\n",
       "      <td>NaN</td>\n",
       "      <td>NaN</td>\n",
       "      <td>NaN</td>\n",
       "    </tr>\n",
       "    <tr>\n",
       "      <th>2</th>\n",
       "      <td>53.1846</td>\n",
       "      <td>-124.001</td>\n",
       "      <td>2019/03/27 19:42:00.000</td>\n",
       "      <td>NASA</td>\n",
       "      <td>IBAND</td>\n",
       "      <td>S-NPP</td>\n",
       "      <td>BC</td>\n",
       "      <td>2.090</td>\n",
       "      <td>64</td>\n",
       "      <td>11.087</td>\n",
       "      <td>...</td>\n",
       "      <td>0</td>\n",
       "      <td>1291</td>\n",
       "      <td>NaN</td>\n",
       "      <td>2.7</td>\n",
       "      <td>0.095046</td>\n",
       "      <td>NaN</td>\n",
       "      <td>0.095046</td>\n",
       "      <td>NaN</td>\n",
       "      <td>NaN</td>\n",
       "      <td>NaN</td>\n",
       "    </tr>\n",
       "    <tr>\n",
       "      <th>3</th>\n",
       "      <td>54.0710</td>\n",
       "      <td>-123.757</td>\n",
       "      <td>2019/11/17 21:18:00.000</td>\n",
       "      <td>USFS</td>\n",
       "      <td>IBAND</td>\n",
       "      <td>N</td>\n",
       "      <td>BC</td>\n",
       "      <td>8.218</td>\n",
       "      <td>61</td>\n",
       "      <td>14.859</td>\n",
       "      <td>...</td>\n",
       "      <td>0</td>\n",
       "      <td>1266</td>\n",
       "      <td>NaN</td>\n",
       "      <td>0.6</td>\n",
       "      <td>0.040000</td>\n",
       "      <td>14.0</td>\n",
       "      <td>0.040000</td>\n",
       "      <td>NaN</td>\n",
       "      <td>NaN</td>\n",
       "      <td>NaN</td>\n",
       "    </tr>\n",
       "    <tr>\n",
       "      <th>4</th>\n",
       "      <td>52.0966</td>\n",
       "      <td>-122.069</td>\n",
       "      <td>2019/03/29 11:00:00.000</td>\n",
       "      <td>NASA</td>\n",
       "      <td>IBAND</td>\n",
       "      <td>S-NPP</td>\n",
       "      <td>BC</td>\n",
       "      <td>11.225</td>\n",
       "      <td>31</td>\n",
       "      <td>7.106</td>\n",
       "      <td>...</td>\n",
       "      <td>0</td>\n",
       "      <td>734</td>\n",
       "      <td>NaN</td>\n",
       "      <td>2.2</td>\n",
       "      <td>0.316152</td>\n",
       "      <td>NaN</td>\n",
       "      <td>0.316152</td>\n",
       "      <td>NaN</td>\n",
       "      <td>NaN</td>\n",
       "      <td>NaN</td>\n",
       "    </tr>\n",
       "  </tbody>\n",
       "</table>\n",
       "<p>5 rows × 37 columns</p>\n",
       "</div>"
      ],
      "text/plain": [
       "       lat      lon                 rep_date source sensor satellite agency  \\\n",
       "0  53.0170 -124.689  2019/03/27 21:15:00.000   NASA  MODIS      Aqua     BC   \n",
       "1  50.5910 -119.904  2019/11/17 20:29:00.000   USFS  IBAND     JPSS1     BC   \n",
       "2  53.1846 -124.001  2019/03/27 19:42:00.000   NASA  IBAND     S-NPP     BC   \n",
       "3  54.0710 -123.757  2019/11/17 21:18:00.000   USFS  IBAND         N     BC   \n",
       "4  52.0966 -122.069  2019/03/29 11:00:00.000   NASA  IBAND     S-NPP     BC   \n",
       "\n",
       "     temp  rh      ws  ...  greenup  elev  sfl  cfl      tfc0  ecozone  \\\n",
       "0   3.761  59  11.673  ...        0  1178  NaN  0.8       NaN      NaN   \n",
       "1   7.732  84  10.635  ...        0   761  NaN  2.1  0.140000     14.0   \n",
       "2   2.090  64  11.087  ...        0  1291  NaN  2.7  0.095046      NaN   \n",
       "3   8.218  61  14.859  ...        0  1266  NaN  0.6  0.040000     14.0   \n",
       "4  11.225  31   7.106  ...        0   734  NaN  2.2  0.316152      NaN   \n",
       "\n",
       "       sfc0  cbh uid  fid  \n",
       "0       NaN  NaN NaN  NaN  \n",
       "1  0.140000  NaN NaN  NaN  \n",
       "2  0.095046  NaN NaN  NaN  \n",
       "3  0.040000  NaN NaN  NaN  \n",
       "4  0.316152  NaN NaN  NaN  \n",
       "\n",
       "[5 rows x 37 columns]"
      ]
     },
     "execution_count": 15,
     "metadata": {},
     "output_type": "execute_result"
    }
   ],
   "source": [
    "hotspots.head()"
   ]
  },
  {
   "cell_type": "code",
   "execution_count": 16,
   "metadata": {},
   "outputs": [
    {
     "data": {
      "text/plain": [
       "(1033890, 37)"
      ]
     },
     "execution_count": 16,
     "metadata": {},
     "output_type": "execute_result"
    }
   ],
   "source": [
    "hotspots.shape"
   ]
  },
  {
   "cell_type": "code",
   "execution_count": 17,
   "metadata": {},
   "outputs": [
    {
     "data": {
      "text/plain": [
       "Index(['lat', 'lon', 'rep_date', 'source', 'sensor', 'satellite', 'agency',\n",
       "       'temp', 'rh', 'ws', 'wd', 'pcp', 'ffmc', 'dmc', 'dc', 'isi', 'bui',\n",
       "       'fwi', 'fuel', 'ros', 'sfc', 'tfc', 'bfc', 'hfi', 'cfb', 'estarea',\n",
       "       'pcuring', 'greenup', 'elev', 'sfl', 'cfl', 'tfc0', 'ecozone', 'sfc0',\n",
       "       'cbh', 'uid', 'fid'],\n",
       "      dtype='object')"
      ]
     },
     "execution_count": 17,
     "metadata": {},
     "output_type": "execute_result"
    }
   ],
   "source": [
    "hotspots.columns"
   ]
  },
  {
   "cell_type": "code",
   "execution_count": 18,
   "metadata": {},
   "outputs": [
    {
     "data": {
      "text/plain": [
       "lat          float64\n",
       "lon          float64\n",
       "rep_date      object\n",
       "source        object\n",
       "sensor        object\n",
       "satellite     object\n",
       "agency        object\n",
       "temp         float64\n",
       "rh             int64\n",
       "ws           float64\n",
       "wd             int64\n",
       "pcp          float64\n",
       "ffmc         float64\n",
       "dmc          float64\n",
       "dc           float64\n",
       "isi          float64\n",
       "bui          float64\n",
       "fwi          float64\n",
       "fuel          object\n",
       "ros          float64\n",
       "sfc          float64\n",
       "tfc          float64\n",
       "bfc          float64\n",
       "hfi          float64\n",
       "cfb          float64\n",
       "estarea      float64\n",
       "pcuring      float64\n",
       "greenup       object\n",
       "elev           int64\n",
       "sfl          float64\n",
       "cfl          float64\n",
       "tfc0         float64\n",
       "ecozone      float64\n",
       "sfc0         float64\n",
       "cbh          float64\n",
       "uid          float64\n",
       "fid          float64\n",
       "dtype: object"
      ]
     },
     "execution_count": 18,
     "metadata": {},
     "output_type": "execute_result"
    }
   ],
   "source": [
    "hotspots.dtypes"
   ]
  },
  {
   "cell_type": "code",
   "execution_count": 19,
   "metadata": {},
   "outputs": [
    {
     "name": "stdout",
     "output_type": "stream",
     "text": [
      "Columns with null values:\n",
      " source        696595\n",
      "satellite      50110\n",
      "ros              150\n",
      "sfc              150\n",
      "tfc              150\n",
      "bfc           749015\n",
      "hfi              150\n",
      "cfb              150\n",
      "estarea      1019088\n",
      "pcuring       694831\n",
      "greenup       694831\n",
      "sfl             3541\n",
      "tfc0             170\n",
      "ecozone          237\n",
      "sfc0             258\n",
      "cbh           700136\n",
      "uid          1021169\n",
      "fid           337295\n",
      "dtype: int64\n"
     ]
    }
   ],
   "source": [
    "# Assessing features with missing values\n",
    "null_values = hotspots.isnull().sum()\n",
    "print(\"Columns with null values:\\n\", null_values[null_values > 0])"
   ]
  },
  {
   "cell_type": "code",
   "execution_count": 20,
   "metadata": {},
   "outputs": [
    {
     "data": {
      "text/html": [
       "<div>\n",
       "<style scoped>\n",
       "    .dataframe tbody tr th:only-of-type {\n",
       "        vertical-align: middle;\n",
       "    }\n",
       "\n",
       "    .dataframe tbody tr th {\n",
       "        vertical-align: top;\n",
       "    }\n",
       "\n",
       "    .dataframe thead th {\n",
       "        text-align: right;\n",
       "    }\n",
       "</style>\n",
       "<table border=\"1\" class=\"dataframe\">\n",
       "  <thead>\n",
       "    <tr style=\"text-align: right;\">\n",
       "      <th></th>\n",
       "      <th>Column</th>\n",
       "      <th>Missing Percentage</th>\n",
       "    </tr>\n",
       "  </thead>\n",
       "  <tbody>\n",
       "    <tr>\n",
       "      <th>0</th>\n",
       "      <td>lat</td>\n",
       "      <td>0.000000</td>\n",
       "    </tr>\n",
       "    <tr>\n",
       "      <th>1</th>\n",
       "      <td>lon</td>\n",
       "      <td>0.000000</td>\n",
       "    </tr>\n",
       "    <tr>\n",
       "      <th>2</th>\n",
       "      <td>rep_date</td>\n",
       "      <td>0.000000</td>\n",
       "    </tr>\n",
       "    <tr>\n",
       "      <th>3</th>\n",
       "      <td>source</td>\n",
       "      <td>67.376123</td>\n",
       "    </tr>\n",
       "    <tr>\n",
       "      <th>4</th>\n",
       "      <td>sensor</td>\n",
       "      <td>0.000000</td>\n",
       "    </tr>\n",
       "    <tr>\n",
       "      <th>5</th>\n",
       "      <td>satellite</td>\n",
       "      <td>4.846744</td>\n",
       "    </tr>\n",
       "    <tr>\n",
       "      <th>6</th>\n",
       "      <td>agency</td>\n",
       "      <td>0.000000</td>\n",
       "    </tr>\n",
       "    <tr>\n",
       "      <th>7</th>\n",
       "      <td>temp</td>\n",
       "      <td>0.000000</td>\n",
       "    </tr>\n",
       "    <tr>\n",
       "      <th>8</th>\n",
       "      <td>rh</td>\n",
       "      <td>0.000000</td>\n",
       "    </tr>\n",
       "    <tr>\n",
       "      <th>9</th>\n",
       "      <td>ws</td>\n",
       "      <td>0.000000</td>\n",
       "    </tr>\n",
       "    <tr>\n",
       "      <th>10</th>\n",
       "      <td>wd</td>\n",
       "      <td>0.000000</td>\n",
       "    </tr>\n",
       "    <tr>\n",
       "      <th>11</th>\n",
       "      <td>pcp</td>\n",
       "      <td>0.000000</td>\n",
       "    </tr>\n",
       "    <tr>\n",
       "      <th>12</th>\n",
       "      <td>ffmc</td>\n",
       "      <td>0.000000</td>\n",
       "    </tr>\n",
       "    <tr>\n",
       "      <th>13</th>\n",
       "      <td>dmc</td>\n",
       "      <td>0.000000</td>\n",
       "    </tr>\n",
       "    <tr>\n",
       "      <th>14</th>\n",
       "      <td>dc</td>\n",
       "      <td>0.000000</td>\n",
       "    </tr>\n",
       "    <tr>\n",
       "      <th>15</th>\n",
       "      <td>isi</td>\n",
       "      <td>0.000000</td>\n",
       "    </tr>\n",
       "    <tr>\n",
       "      <th>16</th>\n",
       "      <td>bui</td>\n",
       "      <td>0.000000</td>\n",
       "    </tr>\n",
       "    <tr>\n",
       "      <th>17</th>\n",
       "      <td>fwi</td>\n",
       "      <td>0.000000</td>\n",
       "    </tr>\n",
       "    <tr>\n",
       "      <th>18</th>\n",
       "      <td>fuel</td>\n",
       "      <td>0.000000</td>\n",
       "    </tr>\n",
       "    <tr>\n",
       "      <th>19</th>\n",
       "      <td>ros</td>\n",
       "      <td>0.014508</td>\n",
       "    </tr>\n",
       "    <tr>\n",
       "      <th>20</th>\n",
       "      <td>sfc</td>\n",
       "      <td>0.014508</td>\n",
       "    </tr>\n",
       "    <tr>\n",
       "      <th>21</th>\n",
       "      <td>tfc</td>\n",
       "      <td>0.014508</td>\n",
       "    </tr>\n",
       "    <tr>\n",
       "      <th>22</th>\n",
       "      <td>bfc</td>\n",
       "      <td>72.446295</td>\n",
       "    </tr>\n",
       "    <tr>\n",
       "      <th>23</th>\n",
       "      <td>hfi</td>\n",
       "      <td>0.014508</td>\n",
       "    </tr>\n",
       "    <tr>\n",
       "      <th>24</th>\n",
       "      <td>cfb</td>\n",
       "      <td>0.014508</td>\n",
       "    </tr>\n",
       "    <tr>\n",
       "      <th>25</th>\n",
       "      <td>estarea</td>\n",
       "      <td>98.568320</td>\n",
       "    </tr>\n",
       "    <tr>\n",
       "      <th>26</th>\n",
       "      <td>pcuring</td>\n",
       "      <td>67.205505</td>\n",
       "    </tr>\n",
       "    <tr>\n",
       "      <th>27</th>\n",
       "      <td>greenup</td>\n",
       "      <td>67.205505</td>\n",
       "    </tr>\n",
       "    <tr>\n",
       "      <th>28</th>\n",
       "      <td>elev</td>\n",
       "      <td>0.000000</td>\n",
       "    </tr>\n",
       "    <tr>\n",
       "      <th>29</th>\n",
       "      <td>sfl</td>\n",
       "      <td>0.342493</td>\n",
       "    </tr>\n",
       "    <tr>\n",
       "      <th>30</th>\n",
       "      <td>cfl</td>\n",
       "      <td>0.000000</td>\n",
       "    </tr>\n",
       "    <tr>\n",
       "      <th>31</th>\n",
       "      <td>tfc0</td>\n",
       "      <td>0.016443</td>\n",
       "    </tr>\n",
       "    <tr>\n",
       "      <th>32</th>\n",
       "      <td>ecozone</td>\n",
       "      <td>0.022923</td>\n",
       "    </tr>\n",
       "    <tr>\n",
       "      <th>33</th>\n",
       "      <td>sfc0</td>\n",
       "      <td>0.024954</td>\n",
       "    </tr>\n",
       "    <tr>\n",
       "      <th>34</th>\n",
       "      <td>cbh</td>\n",
       "      <td>67.718616</td>\n",
       "    </tr>\n",
       "    <tr>\n",
       "      <th>35</th>\n",
       "      <td>uid</td>\n",
       "      <td>98.769598</td>\n",
       "    </tr>\n",
       "    <tr>\n",
       "      <th>36</th>\n",
       "      <td>fid</td>\n",
       "      <td>32.623877</td>\n",
       "    </tr>\n",
       "  </tbody>\n",
       "</table>\n",
       "</div>"
      ],
      "text/plain": [
       "       Column  Missing Percentage\n",
       "0         lat            0.000000\n",
       "1         lon            0.000000\n",
       "2    rep_date            0.000000\n",
       "3      source           67.376123\n",
       "4      sensor            0.000000\n",
       "5   satellite            4.846744\n",
       "6      agency            0.000000\n",
       "7        temp            0.000000\n",
       "8          rh            0.000000\n",
       "9          ws            0.000000\n",
       "10         wd            0.000000\n",
       "11        pcp            0.000000\n",
       "12       ffmc            0.000000\n",
       "13        dmc            0.000000\n",
       "14         dc            0.000000\n",
       "15        isi            0.000000\n",
       "16        bui            0.000000\n",
       "17        fwi            0.000000\n",
       "18       fuel            0.000000\n",
       "19        ros            0.014508\n",
       "20        sfc            0.014508\n",
       "21        tfc            0.014508\n",
       "22        bfc           72.446295\n",
       "23        hfi            0.014508\n",
       "24        cfb            0.014508\n",
       "25    estarea           98.568320\n",
       "26    pcuring           67.205505\n",
       "27    greenup           67.205505\n",
       "28       elev            0.000000\n",
       "29        sfl            0.342493\n",
       "30        cfl            0.000000\n",
       "31       tfc0            0.016443\n",
       "32    ecozone            0.022923\n",
       "33       sfc0            0.024954\n",
       "34        cbh           67.718616\n",
       "35        uid           98.769598\n",
       "36        fid           32.623877"
      ]
     },
     "execution_count": 20,
     "metadata": {},
     "output_type": "execute_result"
    }
   ],
   "source": [
    "# Calculate the percentage of missing values in each column\n",
    "missing_percentage = hotspots.isnull().mean() * 100\n",
    "\n",
    "# Convert the Series to a DataFrame for better readability\n",
    "missing_percentage_df = missing_percentage.reset_index()\n",
    "missing_percentage_df.columns = ['Column', 'Missing Percentage']\n",
    "missing_percentage_df"
   ]
  },
  {
   "cell_type": "code",
   "execution_count": 21,
   "metadata": {},
   "outputs": [],
   "source": [
    "#Fill up the missing satelite information with 'Unknown'\n",
    "hotspots['satellite'].fillna('unknown', inplace=True)"
   ]
  },
  {
   "cell_type": "code",
   "execution_count": 22,
   "metadata": {},
   "outputs": [],
   "source": [
    "# Identify rows with missing values in the 'sfc' column\n",
    "sfc_missing_indices = hotspots[hotspots['sfc'].isnull()].index"
   ]
  },
  {
   "cell_type": "code",
   "execution_count": 23,
   "metadata": {},
   "outputs": [
    {
     "name": "stdout",
     "output_type": "stream",
     "text": [
      "The rows with missing values in 'sfc' are the same as those in 'tfc', 'hfi', 'cfb', 'tfc0', and 'sfc0'.\n",
      "Indices with mismatched missing values:\n",
      " Int64Index([], dtype='int64')\n"
     ]
    }
   ],
   "source": [
    "# Compare with other columns\n",
    "columns_to_check = ['tfc', 'hfi', 'cfb', 'tfc0', 'sfc0']\n",
    "missing_in_all = hotspots.loc[sfc_missing_indices, columns_to_check].isnull().all(axis=1)\n",
    "\n",
    "# Check if all values are True (indicating the same rows are missing in all columns)\n",
    "if missing_in_all.all():\n",
    "    print(\"The rows with missing values in 'sfc' are the same as those in 'tfc', 'hfi', 'cfb', 'tfc0', and 'sfc0'.\")\n",
    "else:\n",
    "    print(\"The rows with missing values in 'sfc' are NOT the same as those in 'tfc', 'hfi', 'cfb', 'tfc0', and 'sfc0'.\")\n",
    "\n",
    "# Display the indices where the missing values do not match\n",
    "mismatched_indices = missing_in_all[~missing_in_all].index\n",
    "print(\"Indices with mismatched missing values:\\n\", mismatched_indices)"
   ]
  },
  {
   "cell_type": "code",
   "execution_count": 27,
   "metadata": {},
   "outputs": [],
   "source": [
    "#hotspots = hotspots.drop(sfc_missing_indices)\n",
    "hotspots = hotspots.drop(columns=['cbh', 'bfc','pcuring', 'greenup','source','estarea','fid','uid'])\n",
    "hotspots = hotspots.dropna(subset=['sfl','tfc0','ecozone','sfc0'])"
   ]
  },
  {
   "cell_type": "code",
   "execution_count": 28,
   "metadata": {},
   "outputs": [],
   "source": [
    "# Check for duplicate rows\n",
    "num_duplicates = hotspots.duplicated().sum()\n",
    "hotspots = hotspots.drop_duplicates()"
   ]
  },
  {
   "cell_type": "code",
   "execution_count": 29,
   "metadata": {},
   "outputs": [],
   "source": [
    "hotspots = hotspots[hotspots['hfi'] != 0]"
   ]
  },
  {
   "cell_type": "code",
   "execution_count": 30,
   "metadata": {},
   "outputs": [],
   "source": [
    "hotspots = hotspots.drop(columns=['tfc0', 'sfc0'])\n",
    "hotspots = hotspots.drop(columns=['agency'])"
   ]
  },
  {
   "cell_type": "code",
   "execution_count": 31,
   "metadata": {},
   "outputs": [],
   "source": [
    "hotspots['rep_date'] = pd.to_datetime(hotspots['rep_date'], errors='coerce')"
   ]
  },
  {
   "cell_type": "code",
   "execution_count": 32,
   "metadata": {},
   "outputs": [],
   "source": [
    "hotspots['year'] = hotspots['rep_date'].dt.year\n",
    "hotspots['month'] = hotspots['rep_date'].dt.month\n",
    "hotspots['day'] = hotspots['rep_date'].dt.dayofyear"
   ]
  },
  {
   "cell_type": "code",
   "execution_count": null,
   "metadata": {},
   "outputs": [],
   "source": [
    "hotspots.to_csv('data/cleaned_hotspots', index=False)"
   ]
  },
  {
   "cell_type": "markdown",
   "metadata": {},
   "source": [
    "### Sampling"
   ]
  },
  {
   "cell_type": "code",
   "execution_count": 34,
   "metadata": {},
   "outputs": [],
   "source": [
    "from sklearn.model_selection import train_test_split"
   ]
  },
  {
   "cell_type": "code",
   "execution_count": 35,
   "metadata": {},
   "outputs": [
    {
     "name": "stdout",
     "output_type": "stream",
     "text": [
      "2023    680106\n",
      "2021    229679\n",
      "2022     47713\n",
      "2019     14094\n",
      "2020      8234\n",
      "Name: year, dtype: int64\n"
     ]
    }
   ],
   "source": [
    "print(hotspots['year'].value_counts())"
   ]
  },
  {
   "cell_type": "code",
   "execution_count": 36,
   "metadata": {},
   "outputs": [
    {
     "name": "stdout",
     "output_type": "stream",
     "text": [
      "Sampled data shape: (734869, 29)\n",
      "Sampled data year distribution:\n",
      "2023    510079\n",
      "2021    172259\n",
      "2022     35785\n",
      "2019     10570\n",
      "2020      6176\n",
      "Name: year, dtype: int64\n"
     ]
    }
   ],
   "source": [
    "years_of_interest = [2019, 2020, 2021, 2022, 2023]\n",
    "hotspots = hotspots[hotspots['year'].isin(years_of_interest)]\n",
    "\n",
    "# Perform stratified sampling to get a representative sample\n",
    "sampled_df, _ = train_test_split(hotspots, test_size=0.25, stratify=hotspots['year'], random_state=1)\n",
    "\n",
    "# Display the shape of the sampled DataFrame to verify\n",
    "print(f\"Sampled data shape: {sampled_df.shape}\")\n",
    "\n",
    "# Ensure each year is represented in the sampled data\n",
    "print(\"Sampled data year distribution:\")\n",
    "print(sampled_df['year'].value_counts())"
   ]
  },
  {
   "cell_type": "code",
   "execution_count": 37,
   "metadata": {},
   "outputs": [
    {
     "data": {
      "text/html": [
       "<div>\n",
       "<style scoped>\n",
       "    .dataframe tbody tr th:only-of-type {\n",
       "        vertical-align: middle;\n",
       "    }\n",
       "\n",
       "    .dataframe tbody tr th {\n",
       "        vertical-align: top;\n",
       "    }\n",
       "\n",
       "    .dataframe thead th {\n",
       "        text-align: right;\n",
       "    }\n",
       "</style>\n",
       "<table border=\"1\" class=\"dataframe\">\n",
       "  <thead>\n",
       "    <tr style=\"text-align: right;\">\n",
       "      <th></th>\n",
       "      <th>hfi</th>\n",
       "      <th>Intensity</th>\n",
       "    </tr>\n",
       "  </thead>\n",
       "  <tbody>\n",
       "    <tr>\n",
       "      <th>86081</th>\n",
       "      <td>6080.0</td>\n",
       "      <td>High</td>\n",
       "    </tr>\n",
       "    <tr>\n",
       "      <th>477065</th>\n",
       "      <td>4420.0</td>\n",
       "      <td>High</td>\n",
       "    </tr>\n",
       "    <tr>\n",
       "      <th>657036</th>\n",
       "      <td>2728.0</td>\n",
       "      <td>High</td>\n",
       "    </tr>\n",
       "    <tr>\n",
       "      <th>548634</th>\n",
       "      <td>46.0</td>\n",
       "      <td>Moderate</td>\n",
       "    </tr>\n",
       "    <tr>\n",
       "      <th>553508</th>\n",
       "      <td>1486.0</td>\n",
       "      <td>High</td>\n",
       "    </tr>\n",
       "  </tbody>\n",
       "</table>\n",
       "</div>"
      ],
      "text/plain": [
       "           hfi Intensity\n",
       "86081   6080.0      High\n",
       "477065  4420.0      High\n",
       "657036  2728.0      High\n",
       "548634    46.0  Moderate\n",
       "553508  1486.0      High"
      ]
     },
     "execution_count": 37,
     "metadata": {},
     "output_type": "execute_result"
    }
   ],
   "source": [
    "def categorize_intensity(hfi):\n",
    "    if hfi <= 10:\n",
    "        return 'Low'\n",
    "    elif hfi <= 100:\n",
    "        return 'Moderate'\n",
    "    else:\n",
    "        return 'High'\n",
    "\n",
    "# Apply the function to create the new 'Intensity' feature\n",
    "sampled_df['Intensity'] = sampled_df['hfi'].apply(categorize_intensity)\n",
    "\n",
    "# Display the first few rows to verify\n",
    "sampled_df[['hfi', 'Intensity']].head()"
   ]
  },
  {
   "cell_type": "code",
   "execution_count": 38,
   "metadata": {},
   "outputs": [
    {
     "name": "stdout",
     "output_type": "stream",
     "text": [
      "Number of rows after filtering 'hfi' > 60000: 733476\n"
     ]
    }
   ],
   "source": [
    "sampled_df = sampled_df[sampled_df['hfi'] <= 60000]\n",
    "\n",
    "# Verify the filtering step\n",
    "print(f\"Number of rows after filtering 'hfi' > 60000: {sampled_df.shape[0]}\")"
   ]
  },
  {
   "cell_type": "markdown",
   "metadata": {},
   "source": [
    "### EDA"
   ]
  },
  {
   "cell_type": "code",
   "execution_count": null,
   "metadata": {},
   "outputs": [],
   "source": []
  }
 ],
 "metadata": {
  "kernelspec": {
   "display_name": "base",
   "language": "python",
   "name": "python3"
  },
  "language_info": {
   "codemirror_mode": {
    "name": "ipython",
    "version": 3
   },
   "file_extension": ".py",
   "mimetype": "text/x-python",
   "name": "python",
   "nbconvert_exporter": "python",
   "pygments_lexer": "ipython3",
   "version": "3.10.9"
  }
 },
 "nbformat": 4,
 "nbformat_minor": 2
}
